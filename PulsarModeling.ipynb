{
 "cells": [
  {
   "cell_type": "markdown",
   "metadata": {},
   "source": [
    "# Import"
   ]
  },
  {
   "cell_type": "code",
   "execution_count": 72,
   "metadata": {},
   "outputs": [],
   "source": [
    "import warnings\n",
    "warnings.filterwarnings('ignore')\n",
    "\n",
    "# data\n",
    "import pandas as pd\n",
    "import numpy as np\n",
    "import random as rnd\n",
    "from sklearn.model_selection import KFold\n",
    "from sklearn.preprocessing import MinMaxScaler\n",
    "from sklearn.model_selection import train_test_split\n",
    "from imblearn.over_sampling import SMOTE\n",
    "from imblearn.under_sampling import RandomUnderSampler\n",
    "from imblearn.pipeline import Pipeline\n",
    "from collections import Counter\n",
    "\n",
    "# visualization\n",
    "import seaborn as sns\n",
    "import matplotlib.pyplot as plt\n",
    "%matplotlib inline\n",
    "\n",
    "# machine learning\n",
    "from sklearn.linear_model import LogisticRegression\n",
    "from sklearn.svm import SVC, LinearSVC\n",
    "from sklearn.ensemble import RandomForestClassifier\n",
    "from sklearn.neighbors import KNeighborsClassifier\n",
    "from sklearn.naive_bayes import GaussianNB\n",
    "from sklearn.linear_model import Perceptron\n",
    "from sklearn.linear_model import SGDClassifier\n",
    "from sklearn.tree import DecisionTreeClassifier\n",
    "from sklearn import metrics\n",
    "from sklearn.model_selection import GridSearchCV\n",
    "from sklearn.metrics import accuracy_score\n",
    "from sklearn.metrics import f1_score"
   ]
  },
  {
   "cell_type": "code",
   "execution_count": 2,
   "metadata": {},
   "outputs": [],
   "source": [
    "data = pd.read_csv('HTRU_2.csv', names=['IP_mean', 'IP_deviation', 'IP_kurtosis', 'IP_skew', 'DMSNR_mean', 'DMSNR_deviation',\n",
    "                                       'DMSNR_kurtosis', 'DMSNR_skew', 'Class'])"
   ]
  },
  {
   "cell_type": "code",
   "execution_count": 3,
   "metadata": {},
   "outputs": [
    {
     "data": {
      "text/html": [
       "<div>\n",
       "<style scoped>\n",
       "    .dataframe tbody tr th:only-of-type {\n",
       "        vertical-align: middle;\n",
       "    }\n",
       "\n",
       "    .dataframe tbody tr th {\n",
       "        vertical-align: top;\n",
       "    }\n",
       "\n",
       "    .dataframe thead th {\n",
       "        text-align: right;\n",
       "    }\n",
       "</style>\n",
       "<table border=\"1\" class=\"dataframe\">\n",
       "  <thead>\n",
       "    <tr style=\"text-align: right;\">\n",
       "      <th></th>\n",
       "      <th>IP_mean</th>\n",
       "      <th>IP_deviation</th>\n",
       "      <th>IP_kurtosis</th>\n",
       "      <th>IP_skew</th>\n",
       "      <th>DMSNR_mean</th>\n",
       "      <th>DMSNR_deviation</th>\n",
       "      <th>DMSNR_kurtosis</th>\n",
       "      <th>DMSNR_skew</th>\n",
       "      <th>Class</th>\n",
       "    </tr>\n",
       "  </thead>\n",
       "  <tbody>\n",
       "    <tr>\n",
       "      <td>0</td>\n",
       "      <td>140.562500</td>\n",
       "      <td>55.683782</td>\n",
       "      <td>-0.234571</td>\n",
       "      <td>-0.699648</td>\n",
       "      <td>3.199833</td>\n",
       "      <td>19.110426</td>\n",
       "      <td>7.975532</td>\n",
       "      <td>74.242225</td>\n",
       "      <td>0</td>\n",
       "    </tr>\n",
       "    <tr>\n",
       "      <td>1</td>\n",
       "      <td>102.507812</td>\n",
       "      <td>58.882430</td>\n",
       "      <td>0.465318</td>\n",
       "      <td>-0.515088</td>\n",
       "      <td>1.677258</td>\n",
       "      <td>14.860146</td>\n",
       "      <td>10.576487</td>\n",
       "      <td>127.393580</td>\n",
       "      <td>0</td>\n",
       "    </tr>\n",
       "    <tr>\n",
       "      <td>2</td>\n",
       "      <td>103.015625</td>\n",
       "      <td>39.341649</td>\n",
       "      <td>0.323328</td>\n",
       "      <td>1.051164</td>\n",
       "      <td>3.121237</td>\n",
       "      <td>21.744669</td>\n",
       "      <td>7.735822</td>\n",
       "      <td>63.171909</td>\n",
       "      <td>0</td>\n",
       "    </tr>\n",
       "    <tr>\n",
       "      <td>3</td>\n",
       "      <td>136.750000</td>\n",
       "      <td>57.178449</td>\n",
       "      <td>-0.068415</td>\n",
       "      <td>-0.636238</td>\n",
       "      <td>3.642977</td>\n",
       "      <td>20.959280</td>\n",
       "      <td>6.896499</td>\n",
       "      <td>53.593661</td>\n",
       "      <td>0</td>\n",
       "    </tr>\n",
       "    <tr>\n",
       "      <td>4</td>\n",
       "      <td>88.726562</td>\n",
       "      <td>40.672225</td>\n",
       "      <td>0.600866</td>\n",
       "      <td>1.123492</td>\n",
       "      <td>1.178930</td>\n",
       "      <td>11.468720</td>\n",
       "      <td>14.269573</td>\n",
       "      <td>252.567306</td>\n",
       "      <td>0</td>\n",
       "    </tr>\n",
       "    <tr>\n",
       "      <td>...</td>\n",
       "      <td>...</td>\n",
       "      <td>...</td>\n",
       "      <td>...</td>\n",
       "      <td>...</td>\n",
       "      <td>...</td>\n",
       "      <td>...</td>\n",
       "      <td>...</td>\n",
       "      <td>...</td>\n",
       "      <td>...</td>\n",
       "    </tr>\n",
       "    <tr>\n",
       "      <td>17893</td>\n",
       "      <td>136.429688</td>\n",
       "      <td>59.847421</td>\n",
       "      <td>-0.187846</td>\n",
       "      <td>-0.738123</td>\n",
       "      <td>1.296823</td>\n",
       "      <td>12.166062</td>\n",
       "      <td>15.450260</td>\n",
       "      <td>285.931022</td>\n",
       "      <td>0</td>\n",
       "    </tr>\n",
       "    <tr>\n",
       "      <td>17894</td>\n",
       "      <td>122.554688</td>\n",
       "      <td>49.485605</td>\n",
       "      <td>0.127978</td>\n",
       "      <td>0.323061</td>\n",
       "      <td>16.409699</td>\n",
       "      <td>44.626893</td>\n",
       "      <td>2.945244</td>\n",
       "      <td>8.297092</td>\n",
       "      <td>0</td>\n",
       "    </tr>\n",
       "    <tr>\n",
       "      <td>17895</td>\n",
       "      <td>119.335938</td>\n",
       "      <td>59.935939</td>\n",
       "      <td>0.159363</td>\n",
       "      <td>-0.743025</td>\n",
       "      <td>21.430602</td>\n",
       "      <td>58.872000</td>\n",
       "      <td>2.499517</td>\n",
       "      <td>4.595173</td>\n",
       "      <td>0</td>\n",
       "    </tr>\n",
       "    <tr>\n",
       "      <td>17896</td>\n",
       "      <td>114.507812</td>\n",
       "      <td>53.902400</td>\n",
       "      <td>0.201161</td>\n",
       "      <td>-0.024789</td>\n",
       "      <td>1.946488</td>\n",
       "      <td>13.381731</td>\n",
       "      <td>10.007967</td>\n",
       "      <td>134.238910</td>\n",
       "      <td>0</td>\n",
       "    </tr>\n",
       "    <tr>\n",
       "      <td>17897</td>\n",
       "      <td>57.062500</td>\n",
       "      <td>85.797340</td>\n",
       "      <td>1.406391</td>\n",
       "      <td>0.089520</td>\n",
       "      <td>188.306020</td>\n",
       "      <td>64.712562</td>\n",
       "      <td>-1.597527</td>\n",
       "      <td>1.429475</td>\n",
       "      <td>0</td>\n",
       "    </tr>\n",
       "  </tbody>\n",
       "</table>\n",
       "<p>17898 rows × 9 columns</p>\n",
       "</div>"
      ],
      "text/plain": [
       "          IP_mean  IP_deviation  IP_kurtosis   IP_skew  DMSNR_mean  \\\n",
       "0      140.562500     55.683782    -0.234571 -0.699648    3.199833   \n",
       "1      102.507812     58.882430     0.465318 -0.515088    1.677258   \n",
       "2      103.015625     39.341649     0.323328  1.051164    3.121237   \n",
       "3      136.750000     57.178449    -0.068415 -0.636238    3.642977   \n",
       "4       88.726562     40.672225     0.600866  1.123492    1.178930   \n",
       "...           ...           ...          ...       ...         ...   \n",
       "17893  136.429688     59.847421    -0.187846 -0.738123    1.296823   \n",
       "17894  122.554688     49.485605     0.127978  0.323061   16.409699   \n",
       "17895  119.335938     59.935939     0.159363 -0.743025   21.430602   \n",
       "17896  114.507812     53.902400     0.201161 -0.024789    1.946488   \n",
       "17897   57.062500     85.797340     1.406391  0.089520  188.306020   \n",
       "\n",
       "       DMSNR_deviation  DMSNR_kurtosis  DMSNR_skew  Class  \n",
       "0            19.110426        7.975532   74.242225      0  \n",
       "1            14.860146       10.576487  127.393580      0  \n",
       "2            21.744669        7.735822   63.171909      0  \n",
       "3            20.959280        6.896499   53.593661      0  \n",
       "4            11.468720       14.269573  252.567306      0  \n",
       "...                ...             ...         ...    ...  \n",
       "17893        12.166062       15.450260  285.931022      0  \n",
       "17894        44.626893        2.945244    8.297092      0  \n",
       "17895        58.872000        2.499517    4.595173      0  \n",
       "17896        13.381731       10.007967  134.238910      0  \n",
       "17897        64.712562       -1.597527    1.429475      0  \n",
       "\n",
       "[17898 rows x 9 columns]"
      ]
     },
     "execution_count": 3,
     "metadata": {},
     "output_type": "execute_result"
    }
   ],
   "source": [
    "data"
   ]
  },
  {
   "cell_type": "code",
   "execution_count": 4,
   "metadata": {},
   "outputs": [
    {
     "data": {
      "text/plain": [
       "0    16259\n",
       "1     1639\n",
       "Name: Class, dtype: int64"
      ]
     },
     "execution_count": 4,
     "metadata": {},
     "output_type": "execute_result"
    }
   ],
   "source": [
    "# check class distribution\n",
    "\n",
    "data['Class'].value_counts()"
   ]
  },
  {
   "cell_type": "code",
   "execution_count": 3,
   "metadata": {},
   "outputs": [
    {
     "data": {
      "text/plain": [
       "IP_mean            float64\n",
       "IP_deviation       float64\n",
       "IP_kurtosis        float64\n",
       "IP_skew            float64\n",
       "DMSNR_mean         float64\n",
       "DMSNR_deviation    float64\n",
       "DMSNR_kurtosis     float64\n",
       "DMSNR_skew         float64\n",
       "Class                int64\n",
       "dtype: object"
      ]
     },
     "execution_count": 3,
     "metadata": {},
     "output_type": "execute_result"
    }
   ],
   "source": [
    "data.dtypes"
   ]
  },
  {
   "cell_type": "markdown",
   "metadata": {},
   "source": [
    "# Data Prep"
   ]
  },
  {
   "cell_type": "markdown",
   "metadata": {},
   "source": [
    "According to the original SMOTE paper in 2011 (https://arxiv.org/abs/1106.1813), SMOTE is best used when combined with random undersampling. I chose to begin with random undersampling in order to limit the danger of my minority class being lost in the volume of majority instances at the time of SMOTE implemenation. My data class ratio was initially at 1:10 which I trimmed to 1:3 using random undersampling.\n",
    "\n",
    "After undersampling, I used SMOTE to complete the process of evening my class instances by bringing the ratio down to 1:1.\n",
    "\n",
    "I chose not to use pipelines here to allow for neat compartmentalization and quick verification of each step."
   ]
  },
  {
   "cell_type": "code",
   "execution_count": 5,
   "metadata": {},
   "outputs": [],
   "source": [
    "x = data[['IP_mean', 'IP_deviation', 'IP_kurtosis', 'IP_skew', 'DMSNR_mean',\n",
    "       'DMSNR_deviation', 'DMSNR_kurtosis', 'DMSNR_skew']]\n",
    "y = data['Class']"
   ]
  },
  {
   "cell_type": "code",
   "execution_count": 6,
   "metadata": {},
   "outputs": [],
   "source": [
    "# train test split\n",
    "\n",
    "xTrain, xTest, yTrain, yTest = train_test_split(x, y, test_size = 0.2, random_state = 0)"
   ]
  },
  {
   "cell_type": "code",
   "execution_count": 8,
   "metadata": {},
   "outputs": [
    {
     "name": "stdout",
     "output_type": "stream",
     "text": [
      "Resampled dataset shape Counter({0: 5463, 1: 1639})\n"
     ]
    }
   ],
   "source": [
    "# random undersampling to trim majority class, class imbalance will go from 1:10 to 1:3.\n",
    "\n",
    "rus = RandomUnderSampler(sampling_strategy=0.3, random_state=2)\n",
    "xTrain, yTrain = rus.fit_resample(x, y)\n",
    "\n",
    "print('Resampled dataset shape %s' % Counter(yTrain))"
   ]
  },
  {
   "cell_type": "code",
   "execution_count": 12,
   "metadata": {},
   "outputs": [
    {
     "name": "stdout",
     "output_type": "stream",
     "text": [
      "Resampled dataset shape Counter({0: 5463, 1: 2731})\n"
     ]
    }
   ],
   "source": [
    "# smote to beef up minority class (1), class imbalance will go from 1:3 to 1:1.\n",
    "\n",
    "smote = SMOTE(sampling_strategy=0.5, random_state=2)\n",
    "xTrain, yTrain = smote.fit_sample(xTrain, yTrain)\n",
    "\n",
    "print('Resampled dataset shape %s' % Counter(yTrain))"
   ]
  },
  {
   "cell_type": "code",
   "execution_count": 13,
   "metadata": {},
   "outputs": [],
   "source": [
    "# scale our resampled training data\n",
    "\n",
    "scaler = MinMaxScaler()\n",
    "X = scaler.fit_transform(xTrain)"
   ]
  },
  {
   "cell_type": "markdown",
   "metadata": {},
   "source": [
    "# Validation"
   ]
  },
  {
   "cell_type": "code",
   "execution_count": 47,
   "metadata": {},
   "outputs": [],
   "source": [
    "# standard kfold validation on\n",
    "\n",
    "Y = yTrain\n",
    "\n",
    "kfd = KFold(10)\n",
    "\n",
    "def kfold(model, score_type) :\n",
    "    kfold_scores = []\n",
    "    \n",
    "    for train_index, test_index in kfd.split(X, Y):\n",
    "        # print(\"TRAIN:\", train_index, \"TEST:\", test_index)\n",
    "        X_train, X_test = X[train_index], X[test_index]\n",
    "        Y_train, Y_test = Y[train_index], Y[test_index]\n",
    "        \n",
    "        clf = model()\n",
    "        clf.fit(X_train, Y_train)\n",
    "        Y_pred = clf.predict(X_test)\n",
    "        score = score_type(Y_test, Y_pred)\n",
    "        kfold_scores.append(score)\n",
    "        \n",
    "    \n",
    "    print(sum(kfold_scores)/len(kfold_scores))\n",
    "          "
   ]
  },
  {
   "cell_type": "markdown",
   "metadata": {},
   "source": [
    "# Modeling"
   ]
  },
  {
   "cell_type": "code",
   "execution_count": 85,
   "metadata": {},
   "outputs": [
    {
     "name": "stdout",
     "output_type": "stream",
     "text": [
      "0.3337718242827732\n",
      "0.39565217391304347\n",
      "0.9345629709044344\n",
      "0.3620804999042013\n"
     ]
    }
   ],
   "source": [
    "# Logisitic Regression\n",
    "\n",
    "lr_rcScore = kfold(LogisticRegression, recall_score)\n",
    "lr_pcScore = kfold(LogisticRegression, precision_score)\n",
    "lr_acScore = kfold(LogisticRegression, accuracy_score)\n",
    "lr_f1Score = kfold(LogisticRegression, f1_score)"
   ]
  },
  {
   "cell_type": "code",
   "execution_count": 84,
   "metadata": {},
   "outputs": [
    {
     "name": "stdout",
     "output_type": "stream",
     "text": [
      "0.3292554566277194\n",
      "0.3969026548672566\n",
      "0.9337057387057388\n",
      "0.35991544568196615\n"
     ]
    }
   ],
   "source": [
    "# Support Vector Machines\n",
    "\n",
    "svc_rcScore = kfold(SVC, recall_score)\n",
    "svc_pcScore = kfold(SVC, precision_score)\n",
    "svc_acScore = kfold(SVC, accuracy_score)\n",
    "svc_f1Score = kfold(SVC, f1_score)"
   ]
  },
  {
   "cell_type": "code",
   "execution_count": 83,
   "metadata": {},
   "outputs": [
    {
     "name": "stdout",
     "output_type": "stream",
     "text": [
      "0.3387725818382753\n",
      "0.3888888888888889\n",
      "0.9166300366300367\n",
      "0.36201623359200974\n"
     ]
    }
   ],
   "source": [
    "# Naive Bayes\n",
    "\n",
    "gnb_rcScore = kfold(GaussianNB, recall_score)\n",
    "gnb_pcScore = kfold(GaussianNB, precision_score)\n",
    "gnb_acScore = kfold(GaussianNB, accuracy_score)\n",
    "gnb_f1Score = kfold(GaussianNB, f1_score)"
   ]
  },
  {
   "cell_type": "code",
   "execution_count": 82,
   "metadata": {},
   "outputs": [
    {
     "name": "stdout",
     "output_type": "stream",
     "text": [
      "0.3565804835877829\n",
      "0.3952\n",
      "0.9427523154352423\n",
      "0.3748908747495742\n"
     ]
    }
   ],
   "source": [
    "# KNN\n",
    "\n",
    "knn_rcScore = kfold(KNeighborsClassifier, recall_score)\n",
    "knn_pcScore = kfold(KNeighborsClassifier, precision_score)\n",
    "knn_acScore = kfold(KNeighborsClassifier, accuracy_score)\n",
    "knn_f1Score = kfold(KNeighborsClassifier, f1_score)"
   ]
  },
  {
   "cell_type": "code",
   "execution_count": 81,
   "metadata": {},
   "outputs": [
    {
     "name": "stdout",
     "output_type": "stream",
     "text": [
      "0.34048064668502626\n",
      "0.3982532751091703\n",
      "0.9440842490842491\n",
      "0.3670838419581651\n"
     ]
    }
   ],
   "source": [
    "# Linear SVC\n",
    "\n",
    "lsvc_rcScore = kfold(LinearSVC, recall_score)\n",
    "lsvc_pcScore = kfold(LinearSVC, precision_score)\n",
    "lsvc_acScore = kfold(LinearSVC, accuracy_score)\n",
    "lsvc_f1Score = kfold(LinearSVC, f1_score)"
   ]
  },
  {
   "cell_type": "code",
   "execution_count": 80,
   "metadata": {},
   "outputs": [
    {
     "name": "stdout",
     "output_type": "stream",
     "text": [
      "0.3408375890127715\n",
      "0.3940711462450593\n",
      "0.9412756484707705\n",
      "0.36442572438857423\n"
     ]
    }
   ],
   "source": [
    "# Stochastic Gradient Descent\n",
    "\n",
    "sgd_rcScore = kfold(SGDClassifier, recall_score)\n",
    "sgd_pcScore = kfold(SGDClassifier, precision_score)\n",
    "sgd_acScore = kfold(SGDClassifier, accuracy_score)\n",
    "sgd_f1Score = kfold(SGDClassifier, f1_score)"
   ]
  },
  {
   "cell_type": "code",
   "execution_count": 86,
   "metadata": {},
   "outputs": [
    {
     "name": "stdout",
     "output_type": "stream",
     "text": [
      "0.3603602399222837\n",
      "0.38992537313432835\n",
      "0.931529527383186\n",
      "0.3735790597803885\n"
     ]
    }
   ],
   "source": [
    "# Decision Tree\n",
    "\n",
    "dtc_rcScore = kfold(DecisionTreeClassifier, recall_score)\n",
    "dtc_pcScore = kfold(DecisionTreeClassifier, precision_score)\n",
    "dtc_acScore = kfold(DecisionTreeClassifier, accuracy_score)\n",
    "dtc_f1Score = kfold(DecisionTreeClassifier, f1_score)\n"
   ]
  },
  {
   "cell_type": "code",
   "execution_count": 87,
   "metadata": {},
   "outputs": [
    {
     "name": "stdout",
     "output_type": "stream",
     "text": [
      "0.35402306533693395\n",
      "0.3983333333333333\n",
      "0.9529991959260252\n",
      "0.3760752240058812\n"
     ]
    }
   ],
   "source": [
    "# Random Forest\n",
    "\n",
    "rfc_rcScore = kfold(RandomForestClassifier, recall_score)\n",
    "rfc_pcScore = kfold(RandomForestClassifier, precision_score)\n",
    "rfc_acScore = kfold(RandomForestClassifier, accuracy_score)\n",
    "rfc_f1Score = kfold(RandomForestClassifier, f1_score)"
   ]
  },
  {
   "cell_type": "markdown",
   "metadata": {},
   "source": [
    "# Model Examination"
   ]
  },
  {
   "cell_type": "code",
   "execution_count": null,
   "metadata": {},
   "outputs": [],
   "source": [
    "# use recall score and accuracy score"
   ]
  },
  {
   "cell_type": "code",
   "execution_count": 66,
   "metadata": {},
   "outputs": [
    {
     "data": {
      "text/html": [
       "<div>\n",
       "<style scoped>\n",
       "    .dataframe tbody tr th:only-of-type {\n",
       "        vertical-align: middle;\n",
       "    }\n",
       "\n",
       "    .dataframe tbody tr th {\n",
       "        vertical-align: top;\n",
       "    }\n",
       "\n",
       "    .dataframe thead th {\n",
       "        text-align: right;\n",
       "    }\n",
       "</style>\n",
       "<table border=\"1\" class=\"dataframe\">\n",
       "  <thead>\n",
       "    <tr style=\"text-align: right;\">\n",
       "      <th></th>\n",
       "      <th>Model</th>\n",
       "      <th>Recall_Score</th>\n",
       "      <th>Precision_Score</th>\n",
       "    </tr>\n",
       "  </thead>\n",
       "  <tbody>\n",
       "    <tr>\n",
       "      <td>0</td>\n",
       "      <td>Logistic Regression</td>\n",
       "      <td>None</td>\n",
       "      <td>None</td>\n",
       "    </tr>\n",
       "    <tr>\n",
       "      <td>1</td>\n",
       "      <td>Support Vector Machines</td>\n",
       "      <td>None</td>\n",
       "      <td>None</td>\n",
       "    </tr>\n",
       "    <tr>\n",
       "      <td>2</td>\n",
       "      <td>Naive Bayes</td>\n",
       "      <td>None</td>\n",
       "      <td>None</td>\n",
       "    </tr>\n",
       "    <tr>\n",
       "      <td>3</td>\n",
       "      <td>KNN</td>\n",
       "      <td>None</td>\n",
       "      <td>None</td>\n",
       "    </tr>\n",
       "    <tr>\n",
       "      <td>4</td>\n",
       "      <td>Linear SVC</td>\n",
       "      <td>None</td>\n",
       "      <td>None</td>\n",
       "    </tr>\n",
       "    <tr>\n",
       "      <td>5</td>\n",
       "      <td>Stochastic Gradient Decent</td>\n",
       "      <td>None</td>\n",
       "      <td>None</td>\n",
       "    </tr>\n",
       "    <tr>\n",
       "      <td>6</td>\n",
       "      <td>Decision Tree</td>\n",
       "      <td>None</td>\n",
       "      <td>None</td>\n",
       "    </tr>\n",
       "    <tr>\n",
       "      <td>7</td>\n",
       "      <td>Random Forest</td>\n",
       "      <td>None</td>\n",
       "      <td>None</td>\n",
       "    </tr>\n",
       "  </tbody>\n",
       "</table>\n",
       "</div>"
      ],
      "text/plain": [
       "                        Model Recall_Score Precision_Score\n",
       "0         Logistic Regression         None            None\n",
       "1     Support Vector Machines         None            None\n",
       "2                 Naive Bayes         None            None\n",
       "3                         KNN         None            None\n",
       "4                  Linear SVC         None            None\n",
       "5  Stochastic Gradient Decent         None            None\n",
       "6               Decision Tree         None            None\n",
       "7               Random Forest         None            None"
      ]
     },
     "execution_count": 66,
     "metadata": {},
     "output_type": "execute_result"
    }
   ],
   "source": [
    "models = pd.DataFrame({'Model': ['Logistic Regression', 'Support Vector Machines', 'Naive Bayes','KNN', \n",
    "                                 'Linear SVC', 'Stochastic Gradient Decent', 'Decision Tree', 'Random Forest'], \n",
    "                       'Recall_Score' : [lr_rcScore, svc_rcScore, gnb_rcScore, knn_rcScore, lsvc_rcScore, sgd_rcScore,\n",
    "                                 dtc_rcScore, rfc_rcScore],\n",
    "                       'Precision_Score' : [lr_pcScore, svc_pcScore, gnb_pcScore, knn_pcScore, lsvc_pcScore, sgd_pcScore,\n",
    "                                 dtc_pcScore, rfc_pcScore]})\n",
    "\n",
    "models"
   ]
  },
  {
   "cell_type": "markdown",
   "metadata": {},
   "source": [
    "# Final Model"
   ]
  },
  {
   "cell_type": "code",
   "execution_count": null,
   "metadata": {},
   "outputs": [],
   "source": []
  },
  {
   "cell_type": "code",
   "execution_count": null,
   "metadata": {},
   "outputs": [],
   "source": []
  },
  {
   "cell_type": "markdown",
   "metadata": {},
   "source": [
    "# Visualizations"
   ]
  },
  {
   "cell_type": "code",
   "execution_count": null,
   "metadata": {},
   "outputs": [],
   "source": []
  },
  {
   "cell_type": "code",
   "execution_count": null,
   "metadata": {},
   "outputs": [],
   "source": []
  },
  {
   "cell_type": "code",
   "execution_count": null,
   "metadata": {},
   "outputs": [],
   "source": []
  },
  {
   "cell_type": "code",
   "execution_count": null,
   "metadata": {},
   "outputs": [],
   "source": []
  },
  {
   "cell_type": "code",
   "execution_count": null,
   "metadata": {},
   "outputs": [],
   "source": []
  }
 ],
 "metadata": {
  "kernelspec": {
   "display_name": "Python 3",
   "language": "python",
   "name": "python3"
  },
  "language_info": {
   "codemirror_mode": {
    "name": "ipython",
    "version": 3
   },
   "file_extension": ".py",
   "mimetype": "text/x-python",
   "name": "python",
   "nbconvert_exporter": "python",
   "pygments_lexer": "ipython3",
   "version": "3.6.9"
  }
 },
 "nbformat": 4,
 "nbformat_minor": 4
}
